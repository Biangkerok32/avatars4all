{
  "nbformat": 4,
  "nbformat_minor": 0,
  "metadata": {
    "colab": {
      "name": "gmic_video",
      "private_outputs": true,
      "provenance": [],
      "collapsed_sections": [],
      "authorship_tag": "ABX9TyOE4GFTmAFKW4JHRCp19Yoe",
      "include_colab_link": true
    },
    "kernelspec": {
      "name": "python3",
      "display_name": "Python 3"
    },
    "language_info": {
      "name": "python"
    }
  },
  "cells": [
    {
      "cell_type": "markdown",
      "metadata": {
        "id": "view-in-github",
        "colab_type": "text"
      },
      "source": [
        "<a href=\"https://colab.research.google.com/github/eyaler/avatars4all/blob/master/gmic_video.ipynb\" target=\"_parent\"><img src=\"https://colab.research.google.com/assets/colab-badge.svg\" alt=\"Open In Colab\"/></a>"
      ]
    },
    {
      "cell_type": "markdown",
      "metadata": {
        "id": "D_nPMNtfIGYD"
      },
      "source": [
        "# A simple web interface for running [G'MIC](https://gmic.eu) on videos"
      ]
    },
    {
      "cell_type": "code",
      "metadata": {
        "id": "CFoUb-eoWv5y",
        "cellView": "form"
      },
      "source": [
        "#@title Setup\n",
        "!pip install gmic\n",
        "!pip install youtube-dl"
      ],
      "execution_count": null,
      "outputs": []
    },
    {
      "cell_type": "code",
      "metadata": {
        "cellView": "form",
        "id": "HjNe-pkCjY21"
      },
      "source": [
        "#@title Optionally mount Google Drive { run: \"auto\" }\n",
        "mount_google_drive = False #@param {type:\"boolean\"}\n",
        "if mount_google_drive:\n",
        "  from google.colab import drive\n",
        "  drive.mount('/content/drive')"
      ],
      "execution_count": null,
      "outputs": []
    },
    {
      "cell_type": "code",
      "metadata": {
        "id": "eQIQ5fv_u-Vq",
        "cellView": "form"
      },
      "source": [
        "#@title Get video from the web\n",
        "#@markdown 1. You can change the URLs to your **own** stuff\n",
        "#@markdown 2. Advanced: You can mannualy upload files and put in the path to the location on Colab\n",
        "#@markdown 3. Alternatively, you can upload **local** files in the next cells\n",
        "\n",
        "url = 'https://www.youtube.com/watch?v=kMpnwIGDQvU' #@param ['https://www.youtube.com/watch?v=kMpnwIGDQvU', 'https://www.youtube.com/watch?v=IEqccPhsqgA'] {allow-input: true}\n",
        "\n",
        "if url:\n",
        "  import os\n",
        "  %cd /content\n",
        "  if os.path.isfile(url):\n",
        "    import shutil\n",
        "    input_video = '/content/input.'+url.rsplit('.',1)[1]\n",
        "    shutil.copy2(url, input_video)\n",
        "  else:\n",
        "    input_video = '/content/input.mp4'\n",
        "    !rm -f $input_video\n",
        "    !youtube-dl -f 'bestvideo[ext=mp4][vcodec!*=av01]+bestaudio[ext=m4a]/mp4' '$url' --merge-output-format mp4 -o $input_video\n",
        "    if not os.path.exists(input_video):\n",
        "      input_video = '/content/input.'+url.rsplit('.',1)[1]\n",
        "      !wget '$url' -O $input_video"
      ],
      "execution_count": null,
      "outputs": []
    },
    {
      "cell_type": "code",
      "metadata": {
        "id": "689yo37knBm9"
      },
      "source": [
        "#@title Optionally upload video { run: \"auto\" }\n",
        "manually_upload_video = False #@param {type:\"boolean\"}\n",
        "if manually_upload_video:\n",
        "  from google.colab import files\n",
        "  import shutil\n",
        "\n",
        "  %cd /content/sample_data\n",
        "  try:\n",
        "    uploaded = files.upload()\n",
        "  except Exception as e:\n",
        "    %cd /content\n",
        "    raise e\n",
        "\n",
        "  for fn in uploaded:\n",
        "    input_video = '/content/input.'+fn.rsplit('.',1)\n",
        "    shutil.move('/content/sample_data/'+fn, input_video)\n",
        "    break\n",
        "  %cd /content"
      ],
      "execution_count": null,
      "outputs": []
    },
    {
      "cell_type": "code",
      "metadata": {
        "id": "mbAexuckWTHJ",
        "cellView": "form"
      },
      "source": [
        "#@title Optionally shorten video\n",
        "start_seconds =  0#@param {type:\"number\"}\n",
        "duration_seconds =  10#@param {type:\"number\"}\n",
        "start_seconds = max(start_seconds,0)\n",
        "duration_seconds = max(duration_seconds,0)\n",
        "\n",
        "if duration_seconds:\n",
        "  full_video = input_video.replace('input','full')\n",
        "  !mv $input_video $full_video\n",
        "  !ffmpeg -ss $start_seconds -t $duration_seconds -i $full_video $input_video -y"
      ],
      "execution_count": null,
      "outputs": []
    },
    {
      "cell_type": "code",
      "metadata": {
        "id": "6aNx0BDLnhZx",
        "cellView": "form"
      },
      "source": [
        "#@title G'MIC it!\n",
        "#@markdown You can freely edit the filters and parameters! (you can copy them from https://gmic.eu/gallery or G'MIC-Qt https://www.fosshub.com/GMIC.html?dwl=gmic_2.9.7_qt_win64.zip)\n",
        "filter_1 = 'rodilius 10,10,300,5,30,1,1,0,0,0,50,50' #@param [' ', 'fx_boxfitting 3,0,0.1,0', 'cartoon 3,200,20,0.25,1.5,8,0,50,50', 'fx_diffusiontensors 10,5,3,1,0.15,1,0,3,0,50,50', 'fx_engrave 0.5,50,0.8,40,0,0,0,10,1,0,0,0,1,0,50,50', 'fx_engrave 0.5,50,0.8,40,0,0,1,10,1,0,0,0,1,0,50,50', 'fx_pixelsort 1,0,0,1,0,100,0,0,0', 'fx_polygonize 300,10,10,10,10,0,0,0,255,0,50,50', 'rodilius 10,10,300,5,30,1,1,0,0,0,50,50', 'fx_stained_glass 20,0.1,1,1,1,0,0,0,0,50,50', 'fx_8bits 25,800,16,0,50,50', 'fx_normalize_local 2,6,5,20,1,11,0,50,50'] {allow-input: true}\n",
        "filter_1_enabled = True #@param {type:\"boolean\"}\n",
        "filter_2 = '' #@param [' ', 'fx_boxfitting 3,0,0.1,0', 'cartoon 3,200,20,0.25,1.5,8,0,50,50', 'fx_diffusiontensors 10,5,3,1,0.15,1,0,3,0,50,50', 'fx_engrave 0.5,50,0.8,40,0,0,0,10,1,0,0,0,1,0,50,50', 'fx_engrave 0.5,50,0.8,40,0,0,1,10,1,0,0,0,1,0,50,50', 'fx_pixelsort 1,0,0,1,0,100,0,0,0', 'fx_polygonize 300,10,10,10,10,0,0,0,255,0,50,50', 'rodilius 10,10,300,5,30,1,1,0,0,0,50,50', 'fx_stained_glass 20,0.1,1,1,1,0,0,0,0,50,50', 'fx_8bits 25,800,16,0,50,50', 'fx_normalize_local 2,6,5,20,1,11,0,50,50'] {allow-input: true}\n",
        "filter_2_enabled = True #@param {type:\"boolean\"}\n",
        "filter_3 = '' #@param [' ', 'fx_boxfitting 3,0,0.1,0', 'cartoon 3,200,20,0.25,1.5,8,0,50,50', 'fx_diffusiontensors 10,5,3,1,0.15,1,0,3,0,50,50', 'fx_engrave 0.5,50,0.8,40,0,0,0,10,1,0,0,0,1,0,50,50', 'fx_engrave 0.5,50,0.8,40,0,0,1,10,1,0,0,0,1,0,50,50', 'fx_pixelsort 1,0,0,1,0,100,0,0,0', 'fx_polygonize 300,10,10,10,10,0,0,0,255,0,50,50', 'rodilius 10,10,300,5,30,1,1,0,0,0,50,50', 'fx_stained_glass 20,0.1,1,1,1,0,0,0,0,50,50', 'fx_8bits 25,800,16,0,50,50', 'fx_normalize_local 2,6,5,20,1,11,0,50,50'] {allow-input: true}\n",
        "filter_3_enabled = True #@param {type:\"boolean\"}\n",
        "filter_4 = '' #@param [' ', 'fx_boxfitting 3,0,0.1,0', 'cartoon 3,200,20,0.25,1.5,8,0,50,50', 'fx_diffusiontensors 10,5,3,1,0.15,1,0,3,0,50,50', 'fx_engrave 0.5,50,0.8,40,0,0,1,10,1,0,0,0,1,0,50,50', 'fx_engrave 0.5,50,0.8,40,0,0,0,10,1,0,0,0,1,0,50,50', 'fx_pixelsort 1,0,0,1,0,100,0,0,0', 'fx_polygonize 300,10,10,10,10,0,0,0,255,0,50,50', 'rodilius 10,10,300,5,30,1,1,0,0,0,50,50', 'fx_stained_glass 20,0.1,1,1,1,0,0,0,0,50,50', 'fx_8bits 25,800,16,0,50,50', 'fx_normalize_local 2,6,5,20,1,11,0,50,50'] {allow-input: true}\n",
        "filter_4_enabled = True #@param {type:\"boolean\"}\n",
        "filter_5 = ' ' #@param [' ', 'fx_boxfitting 3,0,0.1,0', 'cartoon 3,200,20,0.25,1.5,8,0,50,50', 'fx_diffusiontensors 10,5,3,1,0.15,1,0,3,0,50,50', 'fx_engrave 0.5,50,0.8,40,0,0,0,10,1,0,0,0,1,0,50,50', 'fx_engrave 0.5,50,0.8,40,0,0,1,10,1,0,0,0,1,0,50,50', 'fx_pixelsort 1,0,0,1,0,100,0,0,0', 'fx_polygonize 300,10,10,10,10,0,0,0,255,0,50,50', 'rodilius 10,10,300,5,30,1,1,0,0,0,50,50', 'fx_stained_glass 20,0.1,1,1,1,0,0,0,0,50,50', 'fx_8bits 25,800,16,0,50,50', 'fx_normalize_local 2,6,5,20,1,11,0,50,50'] {allow-input: true}\n",
        "filter_5_enabled = True #@param {type:\"boolean\"}\n",
        "filters = ' '.join(f for f in [filter_1 if filter_1_enabled else '',filter_2 if filter_2_enabled else '',filter_3 if filter_3_enabled else '',filter_4 if filter_4_enabled else '',filter_5 if filter_5_enabled else ''] if f!=' ')\n",
        "\n",
        "import gmic\n",
        "from time import time\n",
        "import imageio\n",
        "from IPython.display import HTML, clear_output\n",
        "from base64 import b64encode\n",
        "\n",
        "start = time()\n",
        "!rm -f /content/gmic.mp4\n",
        "!rm -f /content/output.mp4\n",
        "with imageio.get_reader(input_video) as reader:\n",
        "  fps = reader.get_meta_data()['fps']\n",
        "cmd = ' '.join(['input',input_video,filters,'output /content/gmic.mp4,%f'%fps])\n",
        "gmic.run(cmd)\n",
        "!ffmpeg -i /content/gmic.mp4 -i $input_video -c:v libx264 -c:a aac -map 0:v -map 1:a? -pix_fmt yuv420p /content/output.mp4 -profile:v baseline -movflags +faststart -y\n",
        "\n",
        "#clear_output()\n",
        "print('cmd:',cmd)\n",
        "print('took: %d secs'%(time()-start))\n",
        "with open('/content/output.mp4', 'rb') as f:\n",
        "  data_url = \"data:video/mp4;base64,\" + b64encode(f.read()).decode()\n",
        "display(HTML(\"\"\"\n",
        "  <video width=600 controls autoplay loop>\n",
        "  <source src=\"%s\" type=\"video/mp4\">\n",
        "  </video>\"\"\" % data_url))"
      ],
      "execution_count": null,
      "outputs": []
    },
    {
      "cell_type": "code",
      "metadata": {
        "id": "FOOK5IgRZaLr",
        "cellView": "form"
      },
      "source": [
        "#@title Download\n",
        "from google.colab import files\n",
        "files.download('/content/output.mp4')"
      ],
      "execution_count": null,
      "outputs": []
    }
  ]
}