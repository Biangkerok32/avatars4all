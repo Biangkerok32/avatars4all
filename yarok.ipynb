{
  "nbformat": 4,
  "nbformat_minor": 0,
  "metadata": {
    "colab": {
      "name": "u2-video-green-screen",
      "private_outputs": true,
      "provenance": [],
      "collapsed_sections": [],
      "machine_shape": "hm",
      "authorship_tag": "ABX9TyOZA6CpPY7KNX4mIRdREuSf",
      "include_colab_link": true
    },
    "kernelspec": {
      "name": "python3",
      "display_name": "Python 3"
    },
    "accelerator": "GPU"
  },
  "cells": [
    {
      "cell_type": "markdown",
      "metadata": {
        "id": "view-in-github",
        "colab_type": "text"
      },
      "source": [
        "<a href=\"https://colab.research.google.com/github/eyaler/avatars4all/blob/master/yarok.ipynb\" target=\"_parent\"><img src=\"https://colab.research.google.com/assets/colab-badge.svg\" alt=\"Open In Colab\"/></a>"
      ]
    },
    {
      "cell_type": "markdown",
      "metadata": {
        "id": "S_ETOKoCh2ur"
      },
      "source": [
        "# U^2-Net Video Green Screen\r\n",
        "## https://github.com/NathanUA/U-2-Net\r\n",
        "### Made just a little bit more accessible by Eyal Gruss (https://eyalgruss.com, eyalgruss@gmail.com)\r\n",
        "\r\n",
        "#### Foreground options:\r\n",
        "*   Video from web or uploaded\r\n",
        "*   Mirrored versions of the above\r\n",
        "\r\n",
        "#### Mask options:\r\n",
        "*   Continuous blending\r\n",
        "*   One frame delay smoothing with custom threshold (https://arxiv.org/pdf/2011.11961)\r\n",
        "\r\n",
        "#### Background options:\r\n",
        "*   Image from web or uploaded\r\n",
        "*   Video from web or uploaded\r\n",
        "*   Mirrored versions of the above\r\n",
        "*   Solid black, white or green\r\n",
        "*   Foreground video converted to grayscale\r\n",
        "\r\n",
        "##### List of more generative tools: https://j.mp/generativetools\r\n",
        "\r\n"
      ]
    },
    {
      "cell_type": "code",
      "metadata": {
        "id": "6K5a29Wbgi0L",
        "cellView": "form"
      },
      "source": [
        "#@title Setup\r\n",
        "%cd /content\r\n",
        "!git clone --depth 1 https://github.com/NathanUA/U-2-Net\r\n",
        "!mkdir -p /content/U-2-Net/saved_models/u2net\r\n",
        "%cd /content/U-2-Net/saved_models/u2net\r\n",
        "!wget --no-check-certificate -nc https://eyalgruss.com/fomm/u2net.pth\r\n",
        "%cd /content\r\n",
        "!pip install -U youtube-dl\r\n",
        "!pip install -U imageio\r\n",
        "!pip install -U imageio-ffmpeg"
      ],
      "execution_count": null,
      "outputs": []
    },
    {
      "cell_type": "code",
      "metadata": {
        "id": "vGtTGhKUh1fW",
        "cellView": "form"
      },
      "source": [
        "#@title Get the foreground video and background image/video from the web\r\n",
        "#@markdown 1. You can change the URLs to your **own** stuff!\r\n",
        "#@markdown 2. For the background image you can use the drop-down menu to alternatively choose a **solid color** or a **greyscale** version of the foreground video\r\n",
        "#@markdown 3. Alternatively, you can upload **local** files in the next cells\r\n",
        "\r\n",
        "video_url = 'https://www.youtube.com/watch?v=kMpnwIGDQvU' #@param {type:\"string\"}\r\n",
        "background_url = 'https://cdnb.artstation.com/p/assets/images/images/012/476/185/large/rafael-de-jongh-synthwave-neon-80s-background-marmoset-revamp-compressed.jpg' #@param ['https://cdnb.artstation.com/p/assets/images/images/012/476/185/large/rafael-de-jongh-synthwave-neon-80s-background-marmoset-revamp-compressed.jpg', 'https://www.youtube.com/watch?v=2yy1-xXMI-w', 'Black', 'White', 'Green', 'Gray video'] {allow-input: true}\r\n",
        "\r\n",
        "if video_url:\r\n",
        "  !rm -f /content/video.mp4\r\n",
        "  !youtube-dl -f 'bestvideo[ext=mp4]+bestaudio[ext=m4a]/mp4' '$video_url' --merge-output-format mp4 -o /content/video\r\n",
        "  !mv /content/video.mp4 /content/video \r\n",
        "  duration_seconds = None\r\n",
        "  params = ''\r\n",
        "\r\n",
        "import youtube_dl\r\n",
        "def is_supported(url):\r\n",
        "    extractors = youtube_dl.extractor.gen_extractors()\r\n",
        "    for e in extractors:\r\n",
        "        if e.suitable(url) and e.IE_NAME != 'generic':\r\n",
        "            return True\r\n",
        "    return False\r\n",
        "\r\n",
        "if '://' in background_url:\r\n",
        "  if is_supported(background_url):\r\n",
        "    !rm -f /content/background.mp4\r\n",
        "    !youtube-dl -f 'bestvideo[ext=mp4]+bestaudio[ext=m4a]/mp4' '$background_url' --merge-output-format mp4 -o /content/background\r\n",
        "    !mv /content/background.mp4 /content/background\r\n",
        "    bg_params = ''\r\n",
        "  else:\r\n",
        "    !wget '$background_url' -O /content/background"
      ],
      "execution_count": null,
      "outputs": []
    },
    {
      "cell_type": "code",
      "metadata": {
        "id": "Hrx-hEY-ir8K",
        "cellView": "form"
      },
      "source": [
        "#@title Optionally upload foreground video { run: \"auto\" }\r\n",
        "manually_upload_video = False #@param {type:\"boolean\"}\r\n",
        "if manually_upload_video:\r\n",
        "  from google.colab import files\r\n",
        "  import shutil\r\n",
        "\r\n",
        "  %cd /content/sample_data\r\n",
        "  try:\r\n",
        "    uploaded = files.upload()\r\n",
        "  except Exception as e:\r\n",
        "    %cd /content\r\n",
        "    raise e\r\n",
        "\r\n",
        "  for fn in uploaded:\r\n",
        "    shutil.move('/content/sample_data/'+fn, '/content/video')\r\n",
        "    break\r\n",
        "  params = ''"
      ],
      "execution_count": null,
      "outputs": []
    },
    {
      "cell_type": "code",
      "metadata": {
        "id": "O4mryuGkitnR",
        "cellView": "form"
      },
      "source": [
        "#@title Optionally upload local background image/video { run: \"auto\" }\r\n",
        "manually_upload_background = False #@param {type:\"boolean\"}\r\n",
        "if manually_upload_background:\r\n",
        "  from google.colab import files\r\n",
        "  import shutil\r\n",
        "\r\n",
        "  %cd /content/sample_data\r\n",
        "  try:\r\n",
        "    uploaded = files.upload()\r\n",
        "  except Exception as e:\r\n",
        "    %cd /content\r\n",
        "    raise e\r\n",
        "\r\n",
        "  for fn in uploaded:\r\n",
        "    shutil.move('/content/sample_data/'+fn, '/content/background')\r\n",
        "    break\r\n",
        "  background_url = None\r\n",
        "  bg_params = ''"
      ],
      "execution_count": null,
      "outputs": []
    },
    {
      "cell_type": "code",
      "metadata": {
        "id": "4D7krlDMixkC",
        "cellView": "form"
      },
      "source": [
        "#@title Optionally shorten foreground video\r\n",
        "start_seconds =  0#@param {type:\"number\"}\r\n",
        "duration_seconds =  60#@param {type:\"number\"}\r\n",
        "start_seconds = max(start_seconds,0)\r\n",
        "duration_seconds = max(duration_seconds,0)\r\n",
        "params = '-ss %i -t %i'%(start_seconds, duration_seconds)"
      ],
      "execution_count": null,
      "outputs": []
    },
    {
      "cell_type": "code",
      "metadata": {
        "id": "eHl_Xkeamau_",
        "cellView": "form"
      },
      "source": [
        "#@title Optionally shorten background video\r\n",
        "background_start_seconds =  0#@param {type:\"number\"}\r\n",
        "background_duration_seconds =  60#@param {type:\"number\"}\r\n",
        "background_start_seconds = max(background_start_seconds,0)\r\n",
        "background_duration_seconds = max(background_duration_seconds,0)\r\n",
        "bg_params = '-ss %i -t %i'%(background_start_seconds, background_duration_seconds)"
      ],
      "execution_count": null,
      "outputs": []
    },
    {
      "cell_type": "code",
      "metadata": {
        "id": "X8otpdxD88FH",
        "cellView": "form"
      },
      "source": [
        "#@title Green Screen It!\r\n",
        "\r\n",
        "#https://arxiv.org/pdf/2011.11961\r\n",
        "one_frame_delay = True #@param {type:\"boolean\"} \r\n",
        "one_frame_delay_threshold = 0.1 #@param {type:\"slider\", min:0, max:1, step:0.05}\r\n",
        "mirror_foreground = False #@param {type:\"boolean\"} \r\n",
        "mirror_background = False #@param {type:\"boolean\"} \r\n",
        "\r\n",
        "frames_dir = '/content/U-2-Net/test_data/test_images'\r\n",
        "mask_dir = '/content/U-2-Net/test_data/u2net_results'\r\n",
        "bg_dir = '/content/bg_frames'\r\n",
        "out_dir = '/content/out_frames'\r\n",
        "!rm -rf $frames_dir\r\n",
        "!mkdir -p $frames_dir\r\n",
        "!rm -rf $mask_dir\r\n",
        "!mkdir -p $mask_dir\r\n",
        "!rm -rf $bg_dir\r\n",
        "!mkdir -p $bg_dir\r\n",
        "!rm -rf $out_dir\r\n",
        "!mkdir -p $out_dir\r\n",
        "!ffmpeg $params -i /content/video $frames_dir/frame_%05d.png\r\n",
        "\r\n",
        "from skimage.transform import resize\r\n",
        "import imageio\r\n",
        "import numpy as np\r\n",
        "import os\r\n",
        "import warnings\r\n",
        "warnings.filterwarnings(\"ignore\")\r\n",
        "\r\n",
        "def fix_dims(im):\r\n",
        "    if im.ndim == 2:\r\n",
        "        im = np.tile(im[..., None], [1, 1, 3])\r\n",
        "    return im[...,:3]\r\n",
        "\r\n",
        "target_image = imageio.imread(frames_dir+'/frame_00001.png')\r\n",
        "\r\n",
        "if background_url == 'Black':\r\n",
        "  source_image = np.full_like(target_image, 0)\r\n",
        "elif background_url == 'White':\r\n",
        "  source_image = np.full_like(target_image, 1)\r\n",
        "elif background_url == 'Green':\r\n",
        "  source_image = np.full_like(target_image, [0,1,0])\r\n",
        "elif background_url != 'Gray video':\r\n",
        "  try:\r\n",
        "    source_image = imageio.imread('/content/background')\r\n",
        "    source_image = fix_dims(source_image)\r\n",
        "    source_image = resize(source_image, target_image.shape[:2])\r\n",
        "    if mirror_background:\r\n",
        "      source_image = np.fliplr(source_image)\r\n",
        "  except Exception:\r\n",
        "    !ffmpeg $bg_params -i /content/background $bg_dir/frame_%05d.png\r\n",
        "\r\n",
        "%cd /content/U-2-Net\r\n",
        "!python /content/U-2-Net/u2net_test.py\r\n",
        "\r\n",
        "files = [x for x in sorted(os.listdir(frames_dir)) if x.endswith('.png')]\r\n",
        "bg_files = [x for x in sorted(os.listdir(bg_dir)) if x.endswith('.png')]\r\n",
        "mask_plus = None\r\n",
        "for i,file in enumerate(files):\r\n",
        "    im = imageio.imread(frames_dir+'/'+file)/255\r\n",
        "    if one_frame_delay and i>0 and i<len(files)-1:\r\n",
        "      mask_minus = mask_now\r\n",
        "      mask_now = mask_plus\r\n",
        "      if mask_now is None:\r\n",
        "        mask_now = imageio.imread(mask_dir+'/'+file)/255\r\n",
        "      mask_plus = imageio.imread(mask_dir+'/'+files[i+1])/255\r\n",
        "      cond = (np.abs(mask_plus-mask_minus)<=one_frame_delay_threshold) & (np.abs(mask_now-mask_minus)>one_frame_delay_threshold) & (np.abs(mask_now-mask_plus)>one_frame_delay_threshold)\r\n",
        "      mask = mask_now*(1-cond) + (mask_minus+mask_plus)/2*cond\r\n",
        "    else:\r\n",
        "      mask_now = imageio.imread(mask_dir+'/'+file)/255\r\n",
        "      mask = mask_now\r\n",
        "    if mirror_foreground:\r\n",
        "        im = np.fliplr(im)\r\n",
        "        mask = np.fliplr(mask)\r\n",
        "    if background_url == 'Gray video':\r\n",
        "      source_image = fix_dims(np.dot(im, [0.2989, 0.5870, 0.1140]))\r\n",
        "    elif bg_files:\r\n",
        "      source_image = imageio.imread(bg_dir+'/'+bg_files[i%len(bg_files)])\r\n",
        "      source_image = resize(source_image, target_image.shape[:2])\r\n",
        "      if mirror_background:\r\n",
        "        source_image = np.fliplr(source_image)\r\n",
        "    imageio.imwrite(out_dir+'/'+file, np.uint8((source_image*(1-mask)+im*mask)*255))\r\n",
        "\r\n",
        "with imageio.get_reader('/content/video', format='mp4') as reader:\r\n",
        "  fps = reader.get_meta_data()['fps']\r\n",
        "\r\n",
        "!ffmpeg -framerate $fps -i $out_dir/frame_%05d.png $params -i /content/video -c:v libx264 -pix_fmt yuv420p /content/final.mp4 -y\r\n",
        "#video can be downloaded from /content/final.mp4\r\n",
        "\r\n",
        "from IPython.display import HTML, clear_output\r\n",
        "from base64 import b64encode\r\n",
        "\r\n",
        "#clear_output()\r\n",
        "with open('/content/final.mp4', 'rb') as f:\r\n",
        "  data_url = \"data:video/mp4;base64,\" + b64encode(f.read()).decode()\r\n",
        "display(HTML(\"\"\"\r\n",
        "<video width=600 controls autoplay loop>\r\n",
        "      <source src=\"%s\" type=\"video/mp4\">\r\n",
        "</video>\"\"\" % data_url))"
      ],
      "execution_count": null,
      "outputs": []
    },
    {
      "cell_type": "code",
      "metadata": {
        "cellView": "form",
        "id": "zxy4hscknBvt"
      },
      "source": [
        "#@title Download\r\n",
        "#@markdown 1. If it fails try running this cell again.\r\n",
        "#@markdown 2. Alternatively, you can manually download \"final.mp4\" from the folder on the left (click \"Refresh\" if missing).\r\n",
        "\r\n",
        "print() #see https://github.com/googlecolab/colabtools/issues/468\r\n",
        "from google.colab import files\r\n",
        "files.download('/content/final.mp4') #fails for Firefox private window"
      ],
      "execution_count": null,
      "outputs": []
    }
  ]
}