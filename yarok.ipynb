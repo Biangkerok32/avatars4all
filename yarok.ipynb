{
  "nbformat": 4,
  "nbformat_minor": 0,
  "metadata": {
    "colab": {
      "name": "u2-video-green-screen",
      "private_outputs": true,
      "provenance": [],
      "collapsed_sections": [],
      "machine_shape": "hm",
      "authorship_tag": "ABX9TyNJigx8fsvCoqYntZWQIDNV",
      "include_colab_link": true
    },
    "kernelspec": {
      "name": "python3",
      "display_name": "Python 3"
    },
    "accelerator": "GPU"
  },
  "cells": [
    {
      "cell_type": "markdown",
      "metadata": {
        "id": "view-in-github",
        "colab_type": "text"
      },
      "source": [
        "<a href=\"https://colab.research.google.com/github/eyaler/avatars4all/blob/master/yarok.ipynb\" target=\"_parent\"><img src=\"https://colab.research.google.com/assets/colab-badge.svg\" alt=\"Open In Colab\"/></a>"
      ]
    },
    {
      "cell_type": "markdown",
      "metadata": {
        "id": "S_ETOKoCh2ur"
      },
      "source": [
        "# U^2-Net Video Green Screen\r\n",
        "## https://github.com/NathanUA/U-2-Net\r\n",
        "### Made just a little bit more accessible by Eyal Gruss (https://eyalgruss.com, eyalgruss@gmail.com)\r\n",
        "##### List of more generative tools: https://j.mp/generativetools"
      ]
    },
    {
      "cell_type": "code",
      "metadata": {
        "cellView": "form",
        "id": "6K5a29Wbgi0L"
      },
      "source": [
        "#@title Setup\r\n",
        "%cd /content\r\n",
        "!git clone --depth 1 https://github.com/NathanUA/U-2-Net\r\n",
        "!mkdir -p /content/U-2-Net/saved_models/u2net\r\n",
        "%cd /content/U-2-Net/saved_models/u2net\r\n",
        "!wget --no-check-certificate -nc https://eyalgruss.com/fomm/u2net.pth\r\n",
        "%cd /content\r\n",
        "!pip install -U youtube-dl\r\n",
        "!pip install -U imageio\r\n",
        "!pip install -U imageio-ffmpeg\r\n",
        "!pip install -U imageio-ffmpeg"
      ],
      "execution_count": null,
      "outputs": []
    },
    {
      "cell_type": "code",
      "metadata": {
        "cellView": "form",
        "id": "vGtTGhKUh1fW"
      },
      "source": [
        "#@title Get the foreground video and background image from the web\r\n",
        "#@markdown 1. You can change the URLs to your **own** stuff!\r\n",
        "#@markdown 2. For the background image you can use the drop-down menu to choose a **solid color**\r\n",
        "#@markdown 3. Alternatively, you can upload **local** files in the next cells\r\n",
        "\r\n",
        "video_url = 'https://www.youtube.com/watch?v=kMpnwIGDQvU' #@param {type:\"string\"}\r\n",
        "image_url = 'https://cdnb.artstation.com/p/assets/images/images/012/476/185/large/rafael-de-jongh-synthwave-neon-80s-background-marmoset-revamp-compressed.jpg' #@param ['https://cdnb.artstation.com/p/assets/images/images/012/476/185/large/rafael-de-jongh-synthwave-neon-80s-background-marmoset-revamp-compressed.jpg', 'Black', 'White', 'Green'] {allow-input: true}\r\n",
        "\r\n",
        "if video_url:\r\n",
        "  !rm -f /content/video.mp4\r\n",
        "  !youtube-dl -f 'bestvideo[ext=mp4][height<=360]+bestaudio[ext=m4a]/mp4[height<=360]/mp4' '$video_url' --merge-output-format mp4 -o /content/video\r\n",
        "  duration_seconds = None\r\n",
        "  params = '' \r\n",
        "\r\n",
        "if '://' in image_url:\r\n",
        "  !wget '$image_url' -O /content/image"
      ],
      "execution_count": null,
      "outputs": []
    },
    {
      "cell_type": "code",
      "metadata": {
        "cellView": "form",
        "id": "Hrx-hEY-ir8K"
      },
      "source": [
        "#@title Optionally upload foreground video { run: \"auto\" }\r\n",
        "manually_upload_video = False #@param {type:\"boolean\"}\r\n",
        "if manually_upload_video:\r\n",
        "  from google.colab import files\r\n",
        "  import shutil\r\n",
        "\r\n",
        "  %cd /content/sample_data\r\n",
        "  try:\r\n",
        "    uploaded = files.upload()\r\n",
        "  except Exception as e:\r\n",
        "    %cd /content\r\n",
        "    raise e\r\n",
        "\r\n",
        "  for fn in uploaded:\r\n",
        "    shutil.move('/content/sample_data/'+fn, '/content/video')\r\n",
        "    break\r\n",
        "  params = ''"
      ],
      "execution_count": null,
      "outputs": []
    },
    {
      "cell_type": "code",
      "metadata": {
        "cellView": "form",
        "id": "O4mryuGkitnR"
      },
      "source": [
        "#@title Optionally upload local background image { run: \"auto\" }\r\n",
        "manually_upload_image = False #@param {type:\"boolean\"}\r\n",
        "if manually_upload_image:\r\n",
        "  from google.colab import files\r\n",
        "  import shutil\r\n",
        "\r\n",
        "  %cd /content/sample_data\r\n",
        "  try:\r\n",
        "    uploaded = files.upload()\r\n",
        "  except Exception as e:\r\n",
        "    %cd /content\r\n",
        "    raise e\r\n",
        "\r\n",
        "  for fn in uploaded:\r\n",
        "    shutil.move('/content/sample_data/'+fn, '/content/image')\r\n",
        "    break\r\n",
        "    image_url = None"
      ],
      "execution_count": null,
      "outputs": []
    },
    {
      "cell_type": "code",
      "metadata": {
        "cellView": "form",
        "id": "4D7krlDMixkC"
      },
      "source": [
        "#@title Optionally shorten video\r\n",
        "start_seconds = 0 #@param {type:\"number\"}\r\n",
        "duration_seconds =  60#@param {type:\"number\"}\r\n",
        "start_seconds = max(start_seconds,0)\r\n",
        "duration_seconds = max(duration_seconds,0)\r\n",
        "params = '-ss %i -t %i'%(start_seconds, duration_seconds)"
      ],
      "execution_count": null,
      "outputs": []
    },
    {
      "cell_type": "code",
      "metadata": {
        "id": "X8otpdxD88FH",
        "cellView": "form"
      },
      "source": [
        "#@title Green Screen It!\r\n",
        "#@markdown If you ran out of RAM this means that the video is too large. You can shorten it above.\r\n",
        "\r\n",
        "frames_dir = '/content/U-2-Net/test_data/test_images'\r\n",
        "mask_dir = '/content/U-2-Net/test_data/u2net_results'\r\n",
        "!rm -rf $frames_dir\r\n",
        "!mkdir -p $frames_dir\r\n",
        "!rm -rf $mask_dir\r\n",
        "!mkdir -p $mask_dir\r\n",
        "!ffmpeg $params -i /content/video.mp4 $frames_dir/frame_%05d.png\r\n",
        "\r\n",
        "from skimage.transform import resize\r\n",
        "import imageio\r\n",
        "import numpy as np\r\n",
        "from skimage import img_as_ubyte\r\n",
        "import os\r\n",
        "import warnings\r\n",
        "warnings.filterwarnings(\"ignore\")\r\n",
        "\r\n",
        "def fix_dims(im):\r\n",
        "    if im.ndim == 2:\r\n",
        "        im = np.tile(im[..., None], [1, 1, 3])\r\n",
        "    return im[...,:3]\r\n",
        "\r\n",
        "target_image = imageio.imread(frames_dir+'/frame_00001.png')\r\n",
        "if image_url == 'Black':\r\n",
        "  source_image = np.full_like(target_image, 0)\r\n",
        "elif image_url == 'White':\r\n",
        "  source_image = np.full_like(target_image, 1)\r\n",
        "elif image_url == 'Green':\r\n",
        "  source_image = np.full_like(target_image, [0,1,0])\r\n",
        "else:\r\n",
        "  source_image = imageio.imread('/content/image')\r\n",
        "  source_image = fix_dims(source_image)\r\n",
        "  source_image = resize(source_image, target_image.shape[:2])\r\n",
        "\r\n",
        "%cd /content/U-2-Net\r\n",
        "!python /content/U-2-Net/u2net_test.py\r\n",
        "\r\n",
        "combined = []\r\n",
        "for file in sorted(os.listdir(frames_dir)):\r\n",
        "  try:\r\n",
        "    im = imageio.imread(frames_dir+'/'+file)/255\r\n",
        "    mask = imageio.imread(mask_dir+'/'+file)/255\r\n",
        "  except Exception:\r\n",
        "    continue\r\n",
        "  combined.append(source_image*(1-mask)+im*mask)\r\n",
        "\r\n",
        "with imageio.get_reader('/content/video.mp4') as reader:\r\n",
        "  fps = reader.get_meta_data()['fps']\r\n",
        "\r\n",
        "imageio.mimsave('/content/combined.mp4', [img_as_ubyte(frame) for frame in combined], fps=fps, macro_block_size=None)\r\n",
        "!ffmpeg $params -i /content/combined.mp4 $params -i /content/video.mp4 -c copy -map 0:v -map 1:a /content/final.mp4 -y\r\n",
        "#video can be downloaded from /content/final.mp4\r\n",
        "\r\n",
        "from IPython.display import HTML, clear_output\r\n",
        "from base64 import b64encode\r\n",
        "\r\n",
        "clear_output()\r\n",
        "with open('/content/final.mp4', 'rb') as f:\r\n",
        "  data_url = \"data:video/mp4;base64,\" + b64encode(f.read()).decode()\r\n",
        "display(HTML(\"\"\"\r\n",
        "<video width=600 controls autoplay loop>\r\n",
        "      <source src=\"%s\" type=\"video/mp4\">\r\n",
        "</video>\"\"\" % data_url))"
      ],
      "execution_count": null,
      "outputs": []
    },
    {
      "cell_type": "code",
      "metadata": {
        "cellView": "form",
        "id": "zxy4hscknBvt"
      },
      "source": [
        "#@title Download\r\n",
        "#@markdown 1. If it fails try running this cell again.\r\n",
        "#@markdown 2. Alternatively, you can manually download \"final.mp4\" from the folder on the left (click \"Refresh\" if missing).\r\n",
        "\r\n",
        "print() #see https://github.com/googlecolab/colabtools/issues/468\r\n",
        "from google.colab import files\r\n",
        "files.download('/content/final.mp4') #fails for Firefox private window"
      ],
      "execution_count": null,
      "outputs": []
    }
  ]
}