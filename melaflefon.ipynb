{
  "nbformat": 4,
  "nbformat_minor": 0,
  "metadata": {
    "colab": {
      "name": "melaflefon.ipynb",
      "private_outputs": true,
      "provenance": [],
      "collapsed_sections": [],
      "machine_shape": "hm",
      "include_colab_link": true
    },
    "kernelspec": {
      "name": "python3",
      "display_name": "Python 3"
    },
    "accelerator": "GPU"
  },
  "cells": [
    {
      "cell_type": "markdown",
      "metadata": {
        "id": "view-in-github",
        "colab_type": "text"
      },
      "source": [
        "<a href=\"https://colab.research.google.com/github/eyaler/avatars4all/blob/master/melaflefon.ipynb\" target=\"_parent\"><img src=\"https://colab.research.google.com/assets/colab-badge.svg\" alt=\"Open In Colab\"/></a>"
      ]
    },
    {
      "cell_type": "markdown",
      "metadata": {
        "id": "802K_fw2kLbV"
      },
      "source": [
        "# Wav2Lip Demo Colab\n",
        "\n",
        "### Made just a little bit more accessible by Eyal Gruss (https://eyalgruss.com, eyalgruss@gmail.com)\n",
        "\n",
        "##### Original project: http://bhaasha.iiit.ac.in/lipsync\n",
        "\n",
        "##### Original notebook: https://colab.research.google.com/drive/1tZpDWXz49W6wDcTprANRGLo2D_EbD5J8\n",
        "\n",
        "##### Combined with First Order Motion Model: https://colab.research.google.com/github/eyaler/avatars4all/blob/master/fomm_bibi.ipynb"
      ]
    },
    {
      "cell_type": "code",
      "metadata": {
        "id": "P3LihClHbUd3",
        "cellView": "form"
      },
      "source": [
        "#@markdown 1. Choose audio (you can also enter a YouTube or similar URL):\n",
        "audio = 'English' #@param ['English', 'Hebrew'] {allow-input: true}\n",
        "#@markdown 2. Press the play button on the left\n",
        "#@markdown 3. Press \"Browse\" below, and upload image(s) or video(s)\n",
        "\n",
        "from google.colab import files\n",
        "%cd /content/sample_data\n",
        "images = files.upload()\n",
        "\n",
        "%tensorflow_version 1.x\n",
        "%cd /content\n",
        "!git clone --depth 1 https://github.com/eyaler/Wav2Lip.git\n",
        "import os\n",
        "if not os.path.exists('/content/Wav2Lip/checkpoints/wav2lip_gan.pth'):\n",
        "  !gdown https://drive.google.com/uc?id=1dwHujX7RVNCvdR1RR93z0FS2T2yzqup9 -O /content/Wav2Lip/checkpoints/wav2lip_gan.pth\n",
        "!wget --no-check-certificate -nc https://eyalgruss.com/fomm/wav2lip_gan.pth -O /content/Wav2Lip/checkpoints/wav2lip_gan.pth\n",
        "!wget --no-check-certificate -nc https://eyalgruss.com/fomm/melaflefon.mp3 -O /content/hebrew.mp3\n",
        "!wget --no-check-certificate -nc https://eyalgruss.com/fomm/s3fd-619a316812.pth -O /content/Wav2Lip/face_detection/detection/sfd/s3fd.pth\n",
        "!pip install -U youtube-dl\n",
        "!youtube-dl --extract-audio --audio-format mp3 https://www.youtube.com/watch?v=cQ54GDm1eL0 -o /content/english.mp3\n",
        "if '/' in audio:\n",
        "  if os.path.exists('/content/custom.mp3'):\n",
        "    os.remove('/content/custom.mp3')\n",
        "  !youtube-dl --extract-audio --audio-format mp3 '$audio' -o /content/custom.mp3\n",
        "  audio = 'custom'\n",
        "audio = '/content/'+audio.lower()+'.mp3'\n",
        "\n",
        "%cd /content/Wav2Lip\n",
        "outputs = []\n",
        "for im in images:\n",
        "  infile = '/content/sample_data/'+im\n",
        "  outfile = '/content/'+im.rsplit('.')[0]+'_out.mp4'\n",
        "  !python inference.py --checkpoint_path checkpoints/wav2lip_gan.pth --face '$infile' --audio '$audio' --pads 0 20 0 0 --outfile \\\"'$outfile'\\\" 2>&1 | tee /content/out.txt\n",
        "  bad = !cat /content/out.txt | grep 'Face not detected'\n",
        "  if bad:\n",
        "    import cv2\n",
        "    print('\\nFace not detected - will use whole frame')\n",
        "    if infile.split('.')[1] in ['jpg', 'png', 'jpeg']:\n",
        "      frame = cv2.imread(infile)\n",
        "    else:\n",
        "      video_stream = cv2.VideoCapture(infile)\n",
        "      still_reading, frame = video_stream.read()\n",
        "    x1 = 0\n",
        "    h,x2 = frame.shape[:2]\n",
        "    if x2>h:\n",
        "      x1 = (x2-h)//2\n",
        "      x2 = x1+h\n",
        "    !python inference.py --checkpoint_path checkpoints/wav2lip_gan.pth --face '$infile' --audio '$audio' --box 0 $h $x1 $x2 --pads 0 20 0 0 --outfile \\\"'$outfile'\\\"\n",
        "  outputs.append(outfile)\n",
        "  os.remove(infile)\n",
        "\n",
        "from IPython.display import HTML, clear_output\n",
        "from base64 import b64encode\n",
        "\n",
        "clear_output()\n",
        "for file in outputs:\n",
        "  with open(file, 'rb') as f:\n",
        "    data_url = \"data:video/mp4;base64,\" + b64encode(f.read()).decode()\n",
        "  display(HTML(\"\"\"\n",
        "  <video width=600 controls loop>\n",
        "        <source src=\"%s\" type=\"video/mp4\">\n",
        "  </video>\"\"\" % data_url))\n",
        "\n",
        "for file in outputs:\n",
        "  try:\n",
        "    files.download(file)\n",
        "  except:\n",
        "    pass"
      ],
      "execution_count": null,
      "outputs": []
    }
  ]
}