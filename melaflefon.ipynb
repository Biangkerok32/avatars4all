{
  "nbformat": 4,
  "nbformat_minor": 0,
  "metadata": {
    "colab": {
      "name": "melaflefon.ipynb",
      "provenance": [],
      "collapsed_sections": [],
      "machine_shape": "hm",
      "include_colab_link": true
    },
    "kernelspec": {
      "name": "python3",
      "display_name": "Python 3"
    },
    "accelerator": "GPU"
  },
  "cells": [
    {
      "cell_type": "markdown",
      "metadata": {
        "id": "view-in-github",
        "colab_type": "text"
      },
      "source": [
        "<a href=\"https://colab.research.google.com/github/eyaler/avatars4all/blob/master/melaflefon.ipynb\" target=\"_parent\"><img src=\"https://colab.research.google.com/assets/colab-badge.svg\" alt=\"Open In Colab\"/></a>"
      ]
    },
    {
      "cell_type": "code",
      "metadata": {
        "id": "P3LihClHbUd3",
        "colab_type": "code",
        "colab": {},
        "cellView": "form"
      },
      "source": [
        "#@title Press the play button, then press \"Browse\" below and upload image(s) or video(s)\n",
        "%tensorflow_version 1.x\n",
        "!git clone https://github.com/Rudrabha/Wav2Lip.git\n",
        "import os\n",
        "if not os.path.exists('/content/Wav2Lip/checkpoints/wav2lip_gan.pth'):\n",
        "  !gdown https://drive.google.com/uc?id=1dwHujX7RVNCvdR1RR93z0FS2T2yzqup9 -O /content/Wav2Lip/checkpoints/wav2lip_gan.pth\n",
        "!wget --no-check-certificate -nc https://drive.google.com/uc?id=18yqnoefpT32lC-f1pqvMXtVLNYbyYEDk -O /content/melaflefon.mp3\n",
        "!wget --no-check-certificate -nc https://www.adrianbulat.com/downloads/python-fan/s3fd-619a316812.pth -O \"/content/Wav2Lip/face_detection/detection/sfd/s3fd.pth\"\n",
        "from google.colab import files\n",
        "%cd /content/sample_data\n",
        "images = files.upload()\n",
        "outputs = []\n",
        "for im in images:\n",
        "  infile = '/content/sample_data/'+im\n",
        "  outfile = '/content/'+im.rsplit('.')[0]+'_out.mp4'\n",
        "  !cd /content/Wav2Lip && python inference.py --checkpoint_path checkpoints/wav2lip_gan.pth --face $infile --audio \"/content/melaflefon.mp3\" --pads 0 20 0 0 --outfile $outfile\n",
        "  outputs.append(outfile)\n",
        "  os.remove(infile)\n",
        "for file in outputs:\n",
        "  try:\n",
        "    files.download(file)\n",
        "  except:\n",
        "    pass"
      ],
      "execution_count": null,
      "outputs": []
    }
  ]
}